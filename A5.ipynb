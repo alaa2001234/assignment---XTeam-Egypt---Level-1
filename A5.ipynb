{
 "cells": [
  {
   "cell_type": "markdown",
   "id": "10c4deac",
   "metadata": {},
   "source": [
    "#                                                Assignment 5\n",
    "\n",
    "### 1- create a list contain 50 number  with for loop\n",
    "\n"
   ]
  },
  {
   "cell_type": "code",
   "execution_count": 4,
   "id": "3560a7a1",
   "metadata": {},
   "outputs": [],
   "source": [
    "import random"
   ]
  },
  {
   "cell_type": "code",
   "execution_count": 57,
   "id": "1f783a64",
   "metadata": {},
   "outputs": [
    {
     "name": "stdout",
     "output_type": "stream",
     "text": [
      "[0, 1, 2, 3, 4, 5, 6, 7, 8, 9, 10, 11, 12, 13, 14, 15, 16, 17, 18, 19, 20, 21, 22, 23, 24, 25, 26, 27, 28, 29, 30, 31, 32, 33, 34, 35, 36, 37, 38, 39, 40, 41, 42, 43, 44, 45, 46, 47, 48, 49]\n"
     ]
    }
   ],
   "source": [
    "x = 0 \n",
    "list = []\n",
    "\n",
    "for x in range (50):\n",
    "   # x = random.randint(0,150)#random intger number\n",
    "    list.append(x)\n",
    "print(list )"
   ]
  },
  {
   "cell_type": "markdown",
   "id": "1cdb502e",
   "metadata": {},
   "source": [
    "## 2- create if statment that returne a boolean .\n"
   ]
  },
  {
   "cell_type": "code",
   "execution_count": 56,
   "id": "3ea3f036",
   "metadata": {},
   "outputs": [
    {
     "name": "stdout",
     "output_type": "stream",
     "text": [
      "False\n"
     ]
    }
   ],
   "source": [
    "num1=5;num2=6\n",
    "if num1 > num2 :\n",
    "    print(\"True\")\n",
    "else : \n",
    "    print(\"False\")"
   ]
  },
  {
   "cell_type": "markdown",
   "id": "ec4d8af9",
   "metadata": {},
   "source": [
    "# 3 - extra point :\n",
    "###### create a program with for loop and if statment that chick tf the string is upper case or not , and if the string is lower case convert it to upper case .\n"
   ]
  },
  {
   "cell_type": "code",
   "execution_count": 52,
   "id": "cf3206d1",
   "metadata": {},
   "outputs": [
    {
     "name": "stdout",
     "output_type": "stream",
     "text": [
      "1\n",
      "OMAR  -->  OMAR\n",
      "3\n",
      "AHMED  -->  AHMED\n",
      "4\n",
      "MOHAMED  -->  MOHAMED\n"
     ]
    },
    {
     "data": {
      "text/plain": [
       "['ALAA', 'OMAR', 'TAHA', 'AHMED', 'MOHAMED']"
      ]
     },
     "execution_count": 52,
     "metadata": {},
     "output_type": "execute_result"
    }
   ],
   "source": [
    "list = [\"ALAA\",\"Omar\",\"TAHA\",\"ahmed\",\"mohamed\"]\n",
    "for up in list : \n",
    "    if up.isupper()== False:\n",
    "        print(list.index(up))\n",
    "        print(up.upper() , \" --> \" , up.upper())\n",
    "        list[list.index(up)]= up.upper()\n",
    "list"
   ]
  },
  {
   "cell_type": "code",
   "execution_count": 2,
   "id": "7219f8cb",
   "metadata": {},
   "outputs": [
    {
     "name": "stdout",
     "output_type": "stream",
     "text": [
      "0\n",
      "ALAAHJHDKSD KHSA  -->  ALAAHJHDKSD KHSA\n"
     ]
    },
    {
     "data": {
      "text/plain": [
       "['ALAAHJHDKSD KHSA']"
      ]
     },
     "execution_count": 2,
     "metadata": {},
     "output_type": "execute_result"
    }
   ],
   "source": [
    "list = [\"AlaaHJhdksd khsa\"]\n",
    "for up in list : \n",
    "    if up.isupper()== False:\n",
    "        print(list.index(up))\n",
    "        print(up.upper() , \" --> \" , up.upper())\n",
    "        list[list.index(up)]= up.upper()\n",
    "list"
   ]
  },
  {
   "cell_type": "code",
   "execution_count": null,
   "id": "84551819",
   "metadata": {},
   "outputs": [],
   "source": []
  }
 ],
 "metadata": {
  "kernelspec": {
   "display_name": "Python 3 (ipykernel)",
   "language": "python",
   "name": "python3"
  },
  "language_info": {
   "codemirror_mode": {
    "name": "ipython",
    "version": 3
   },
   "file_extension": ".py",
   "mimetype": "text/x-python",
   "name": "python",
   "nbconvert_exporter": "python",
   "pygments_lexer": "ipython3",
   "version": "3.9.12"
  }
 },
 "nbformat": 4,
 "nbformat_minor": 5
}
