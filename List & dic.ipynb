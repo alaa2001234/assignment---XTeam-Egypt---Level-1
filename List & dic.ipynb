{
 "cells": [
  {
   "cell_type": "markdown",
   "id": "4988dabb",
   "metadata": {},
   "source": [
    "#                                                Assignment 3\n",
    "\n",
    "## 1- Dic\n",
    "\n",
    "##### *update\n"
   ]
  },
  {
   "cell_type": "code",
   "execution_count": 74,
   "id": "980ff9ed",
   "metadata": {},
   "outputs": [
    {
     "data": {
      "text/plain": [
       "{'Name': 'Alaa', 'Age': 21, 'Salary': 4500, 'Gender': 'Male'}"
      ]
     },
     "execution_count": 74,
     "metadata": {},
     "output_type": "execute_result"
    }
   ],
   "source": [
    "dic1 = {\"Name\" : \"Alaa\" , \"Age\" : 21 , \"Salary\" : 4500}\n",
    "dic1[\"Gender\"] = \"Male\"\n",
    "dic1"
   ]
  },
  {
   "cell_type": "code",
   "execution_count": 75,
   "id": "d446c306",
   "metadata": {},
   "outputs": [
    {
     "data": {
      "text/plain": [
       "{'Name': 'Alaa',\n",
       " 'Age': 21,\n",
       " 'Salary': 4500,\n",
       " 'Gender': 'Male',\n",
       " 'Social Situation': 'Single'}"
      ]
     },
     "execution_count": 75,
     "metadata": {},
     "output_type": "execute_result"
    }
   ],
   "source": [
    "dic1.update({\"Social Situation\" : \"Single\"})\n",
    "dic1"
   ]
  },
  {
   "cell_type": "markdown",
   "id": "8a3c6f89",
   "metadata": {},
   "source": [
    "##### *copy"
   ]
  },
  {
   "cell_type": "code",
   "execution_count": 76,
   "id": "43e51e06",
   "metadata": {},
   "outputs": [],
   "source": [
    "dic2 = dic1.copy()"
   ]
  },
  {
   "cell_type": "markdown",
   "id": "b9fa889e",
   "metadata": {},
   "source": [
    "##### *key and item"
   ]
  },
  {
   "cell_type": "code",
   "execution_count": 77,
   "id": "d3d4c6ef",
   "metadata": {},
   "outputs": [
    {
     "data": {
      "text/plain": [
       "dict_keys(['Name', 'Age', 'Salary', 'Gender', 'Social Situation'])"
      ]
     },
     "execution_count": 77,
     "metadata": {},
     "output_type": "execute_result"
    }
   ],
   "source": [
    "dic1.keys()"
   ]
  },
  {
   "cell_type": "code",
   "execution_count": 78,
   "id": "4819ff5c",
   "metadata": {},
   "outputs": [
    {
     "data": {
      "text/plain": [
       "dict_items([('Name', 'Alaa'), ('Age', 21), ('Salary', 4500), ('Gender', 'Male'), ('Social Situation', 'Single')])"
      ]
     },
     "execution_count": 78,
     "metadata": {},
     "output_type": "execute_result"
    }
   ],
   "source": [
    "dic1.items()"
   ]
  },
  {
   "cell_type": "markdown",
   "id": "ff6e0440",
   "metadata": {},
   "source": [
    "##### *pop --> remove index"
   ]
  },
  {
   "cell_type": "code",
   "execution_count": 79,
   "id": "aa08cd2b",
   "metadata": {},
   "outputs": [
    {
     "data": {
      "text/plain": [
       "'Single'"
      ]
     },
     "execution_count": 79,
     "metadata": {},
     "output_type": "execute_result"
    }
   ],
   "source": [
    "dic1.pop(\"Social Situation\")"
   ]
  },
  {
   "cell_type": "code",
   "execution_count": 80,
   "id": "3273d07e",
   "metadata": {},
   "outputs": [
    {
     "data": {
      "text/plain": [
       "{'Name': 'Alaa', 'Age': 21, 'Salary': 4500, 'Gender': 'Male'}"
      ]
     },
     "execution_count": 80,
     "metadata": {},
     "output_type": "execute_result"
    }
   ],
   "source": [
    "dic1"
   ]
  },
  {
   "cell_type": "markdown",
   "id": "1ca85036",
   "metadata": {},
   "source": [
    "##### *get"
   ]
  },
  {
   "cell_type": "code",
   "execution_count": 81,
   "id": "282dc794",
   "metadata": {},
   "outputs": [
    {
     "data": {
      "text/plain": [
       "4500"
      ]
     },
     "execution_count": 81,
     "metadata": {},
     "output_type": "execute_result"
    }
   ],
   "source": [
    "dic1.get(\"Salary\")"
   ]
  },
  {
   "cell_type": "markdown",
   "id": "2596151b",
   "metadata": {},
   "source": [
    "##### *fromkeys  --> new value for all keys"
   ]
  },
  {
   "cell_type": "code",
   "execution_count": 82,
   "id": "1ecf94b9",
   "metadata": {},
   "outputs": [
    {
     "data": {
      "text/plain": [
       "{'Name': 'Null', 'Age': 'Null', 'Salary': 'Null', 'Gender': 'Null'}"
      ]
     },
     "execution_count": 82,
     "metadata": {},
     "output_type": "execute_result"
    }
   ],
   "source": [
    "dic1= dic1.fromkeys(dic1,\"Null\")\n",
    "dic1"
   ]
  },
  {
   "cell_type": "markdown",
   "id": "e2dcc7ba",
   "metadata": {},
   "source": [
    "### *Dictionary - Comprehensions "
   ]
  },
  {
   "cell_type": "code",
   "execution_count": 76,
   "id": "6dd6ed3c",
   "metadata": {},
   "outputs": [
    {
     "name": "stdout",
     "output_type": "stream",
     "text": [
      "4 4 4\n",
      "<class 'type'>\n",
      "[('Alaa', 98), ('Ali', 94), ('Omar', 99), ('Omran', 81)]\n"
     ]
    }
   ],
   "source": [
    "name = [\"Alaa\",\"Ali\",\"Omar\",\"Omran\"]\n",
    "#code = [1,2,3,4]\n",
    "degree = [98,94,99,81]\n",
    "final = list(zip(name,degree))\n",
    "print(len(name),len(code),len(degree))# لازم يكونو نفس الحجم لو واحده زادت مش هتتكتب\n",
    "print(type)\n",
    "print(final)\n"
   ]
  },
  {
   "cell_type": "code",
   "execution_count": 75,
   "id": "e62bf1ed",
   "metadata": {},
   "outputs": [
    {
     "data": {
      "text/plain": [
       "{'Alaa': 98, 'Ali': 94, 'Omar': 99, 'Omran': 81}"
      ]
     },
     "execution_count": 75,
     "metadata": {},
     "output_type": "execute_result"
    }
   ],
   "source": [
    "dic = {name : age  for name,age in final}\n",
    "dic"
   ]
  },
  {
   "cell_type": "markdown",
   "id": "9619fa64",
   "metadata": {},
   "source": [
    "## 2- List\n",
    "##### *Append"
   ]
  },
  {
   "cell_type": "code",
   "execution_count": 72,
   "id": "7664741a",
   "metadata": {},
   "outputs": [
    {
     "name": "stdout",
     "output_type": "stream",
     "text": [
      "Before append :  ['Alaa', 'Omar', 'Ahmed']\n",
      "After append  :  ['Alaa', 'Omar', 'Ahmed', 'Ali']\n"
     ]
    }
   ],
   "source": [
    "list1 = ['Alaa', 'Omar', 'Ahmed']\n",
    "print(\"Before append : \" , list1)\n",
    "list1.append(\"Ali\")\n",
    "print(\"After append  : \" , list1)"
   ]
  },
  {
   "cell_type": "markdown",
   "id": "9f623f7c",
   "metadata": {},
   "source": [
    "##### *Copy"
   ]
  },
  {
   "cell_type": "code",
   "execution_count": 2,
   "id": "d854c3c7",
   "metadata": {},
   "outputs": [
    {
     "data": {
      "text/plain": [
       "['Alaa', 'Omar', 'Ahmed', 'Ali']"
      ]
     },
     "execution_count": 2,
     "metadata": {},
     "output_type": "execute_result"
    }
   ],
   "source": [
    "list2=list1.copy()\n",
    "list2"
   ]
  },
  {
   "cell_type": "markdown",
   "id": "e3795211",
   "metadata": {},
   "source": [
    "##### *Count"
   ]
  },
  {
   "cell_type": "code",
   "execution_count": 3,
   "id": "190730d6",
   "metadata": {},
   "outputs": [
    {
     "data": {
      "text/plain": [
       "1"
      ]
     },
     "execution_count": 3,
     "metadata": {},
     "output_type": "execute_result"
    }
   ],
   "source": [
    "list2.count(\"Alaa\")"
   ]
  },
  {
   "cell_type": "markdown",
   "id": "7db0a446",
   "metadata": {},
   "source": [
    "##### *Extend"
   ]
  },
  {
   "cell_type": "code",
   "execution_count": 4,
   "id": "3bef8ac1",
   "metadata": {},
   "outputs": [
    {
     "data": {
      "text/plain": [
       "['Alaa', 'Omar', 'Ahmed', 'Ali', 'Ahmed', 45, 'Omar']"
      ]
     },
     "execution_count": 4,
     "metadata": {},
     "output_type": "execute_result"
    }
   ],
   "source": [
    "list3=[\"Ahmed\",45,\"Omar\"]\n",
    "list1.extend(list3)\n",
    "list1"
   ]
  },
  {
   "cell_type": "markdown",
   "id": "b9696b4d",
   "metadata": {},
   "source": [
    "##### *Index"
   ]
  },
  {
   "cell_type": "code",
   "execution_count": 5,
   "id": "c1b481dd",
   "metadata": {},
   "outputs": [
    {
     "data": {
      "text/plain": [
       "5"
      ]
     },
     "execution_count": 5,
     "metadata": {},
     "output_type": "execute_result"
    }
   ],
   "source": [
    "list1.index(45)"
   ]
  },
  {
   "cell_type": "code",
   "execution_count": 6,
   "id": "02efa5ca",
   "metadata": {},
   "outputs": [
    {
     "data": {
      "text/plain": [
       "45"
      ]
     },
     "execution_count": 6,
     "metadata": {},
     "output_type": "execute_result"
    }
   ],
   "source": [
    "list1[5]"
   ]
  },
  {
   "cell_type": "code",
   "execution_count": 7,
   "id": "1f672288",
   "metadata": {},
   "outputs": [
    {
     "data": {
      "text/plain": [
       "['Alaa', 'Ahmed', 'Ahmed', 'Omar']"
      ]
     },
     "execution_count": 7,
     "metadata": {},
     "output_type": "execute_result"
    }
   ],
   "source": [
    "list1[::2]"
   ]
  },
  {
   "cell_type": "code",
   "execution_count": 8,
   "id": "f8ffc709",
   "metadata": {},
   "outputs": [
    {
     "data": {
      "text/plain": [
       "['Omar', 'Ahmed', 'Ahmed', 'Alaa']"
      ]
     },
     "execution_count": 8,
     "metadata": {},
     "output_type": "execute_result"
    }
   ],
   "source": [
    "list1[::-2] # reverse list"
   ]
  },
  {
   "cell_type": "markdown",
   "id": "7e587899",
   "metadata": {},
   "source": [
    "##### *Insert"
   ]
  },
  {
   "cell_type": "code",
   "execution_count": 12,
   "id": "cd5642b7",
   "metadata": {},
   "outputs": [
    {
     "data": {
      "text/plain": [
       "['Alaa', 'Omar', 'Ahmed', 'Ali', 'Ahmed', 45, 'Omar']"
      ]
     },
     "execution_count": 12,
     "metadata": {},
     "output_type": "execute_result"
    }
   ],
   "source": [
    "list1"
   ]
  },
  {
   "cell_type": "code",
   "execution_count": 13,
   "id": "7a24953f",
   "metadata": {},
   "outputs": [
    {
     "data": {
      "text/plain": [
       "7"
      ]
     },
     "execution_count": 13,
     "metadata": {},
     "output_type": "execute_result"
    }
   ],
   "source": [
    "list1.insert(7,\"Hossam\")\n",
    "list1.index(\"Hossam\")"
   ]
  },
  {
   "cell_type": "code",
   "execution_count": 14,
   "id": "8f901f8b",
   "metadata": {},
   "outputs": [
    {
     "data": {
      "text/plain": [
       "['Alaa', 'Omar', 'Ahmed', 'Ali', 'Ahmed', 45, 'Omar', 'Hossam']"
      ]
     },
     "execution_count": 14,
     "metadata": {},
     "output_type": "execute_result"
    }
   ],
   "source": [
    "list1"
   ]
  },
  {
   "cell_type": "code",
   "execution_count": 15,
   "id": "899ca651",
   "metadata": {},
   "outputs": [
    {
     "data": {
      "text/plain": [
       "7"
      ]
     },
     "execution_count": 15,
     "metadata": {},
     "output_type": "execute_result"
    }
   ],
   "source": [
    "list1.insert(-1,\"Mustafa\")\n",
    "list1.index(\"Mustafa\")"
   ]
  },
  {
   "cell_type": "code",
   "execution_count": 16,
   "id": "2f8a2602",
   "metadata": {},
   "outputs": [
    {
     "data": {
      "text/plain": [
       "['Alaa', 'Omar', 'Ahmed', 'Ali', 'Ahmed', 45, 'Omar', 'Mustafa', 'Hossam']"
      ]
     },
     "execution_count": 16,
     "metadata": {},
     "output_type": "execute_result"
    }
   ],
   "source": [
    "list1"
   ]
  },
  {
   "cell_type": "code",
   "execution_count": 18,
   "id": "3c2a0b50",
   "metadata": {},
   "outputs": [
    {
     "data": {
      "text/plain": [
       "0"
      ]
     },
     "execution_count": 18,
     "metadata": {},
     "output_type": "execute_result"
    }
   ],
   "source": [
    "list1.insert(0,\"Taha\")\n",
    "list1.index(\"Taha\")"
   ]
  },
  {
   "cell_type": "code",
   "execution_count": 22,
   "id": "f729bfaf",
   "metadata": {},
   "outputs": [
    {
     "name": "stdout",
     "output_type": "stream",
     "text": [
      "['Taha', 'Alaa', 'Omar', 'Ahmed', 'Ali', 'Ahmed', 45, 'Omar', 'Mustafa', 'Hossam']\n"
     ]
    }
   ],
   "source": [
    "print(list1)"
   ]
  },
  {
   "cell_type": "markdown",
   "id": "c138f476",
   "metadata": {},
   "source": [
    "##### *pop() --> remove index"
   ]
  },
  {
   "cell_type": "code",
   "execution_count": 23,
   "id": "caf1f958",
   "metadata": {},
   "outputs": [
    {
     "name": "stdout",
     "output_type": "stream",
     "text": [
      "Taha\n"
     ]
    },
    {
     "data": {
      "text/plain": [
       "'Taha'"
      ]
     },
     "execution_count": 23,
     "metadata": {},
     "output_type": "execute_result"
    }
   ],
   "source": [
    "print(list1[0])\n",
    "list1.pop(0)"
   ]
  },
  {
   "cell_type": "code",
   "execution_count": 24,
   "id": "9fcc0dcd",
   "metadata": {},
   "outputs": [
    {
     "data": {
      "text/plain": [
       "['Alaa', 'Omar', 'Ahmed', 'Ali', 'Ahmed', 45, 'Omar', 'Mustafa', 'Hossam']"
      ]
     },
     "execution_count": 24,
     "metadata": {},
     "output_type": "execute_result"
    }
   ],
   "source": [
    "list1"
   ]
  },
  {
   "cell_type": "markdown",
   "id": "0e31361e",
   "metadata": {},
   "source": [
    "##### *remove() --> remove value"
   ]
  },
  {
   "cell_type": "code",
   "execution_count": 25,
   "id": "69af98c6",
   "metadata": {},
   "outputs": [],
   "source": [
    "list1.remove(\"Omar\")"
   ]
  },
  {
   "cell_type": "code",
   "execution_count": 26,
   "id": "245259f4",
   "metadata": {},
   "outputs": [
    {
     "data": {
      "text/plain": [
       "['Alaa', 'Ahmed', 'Ali', 'Ahmed', 45, 'Omar', 'Mustafa', 'Hossam']"
      ]
     },
     "execution_count": 26,
     "metadata": {},
     "output_type": "execute_result"
    }
   ],
   "source": [
    "list1"
   ]
  },
  {
   "cell_type": "markdown",
   "id": "e2773aa5",
   "metadata": {},
   "source": [
    "##### *reverse()"
   ]
  },
  {
   "cell_type": "code",
   "execution_count": 28,
   "id": "22d52846",
   "metadata": {},
   "outputs": [],
   "source": [
    "list1.reverse()"
   ]
  },
  {
   "cell_type": "code",
   "execution_count": 29,
   "id": "94961fc2",
   "metadata": {},
   "outputs": [
    {
     "data": {
      "text/plain": [
       "['Hossam', 'Mustafa', 'Omar', 45, 'Ahmed', 'Ali', 'Ahmed', 'Alaa']"
      ]
     },
     "execution_count": 29,
     "metadata": {},
     "output_type": "execute_result"
    }
   ],
   "source": [
    "list1"
   ]
  },
  {
   "cell_type": "markdown",
   "id": "8a09ca69",
   "metadata": {},
   "source": [
    "##### *sort() "
   ]
  },
  {
   "cell_type": "code",
   "execution_count": 30,
   "id": "66e6066d",
   "metadata": {},
   "outputs": [
    {
     "data": {
      "text/plain": [
       "[32, 12, 5, 43, 21]"
      ]
     },
     "execution_count": 30,
     "metadata": {},
     "output_type": "execute_result"
    }
   ],
   "source": [
    "lists = [32,12,5,43,21]\n",
    "lists"
   ]
  },
  {
   "cell_type": "code",
   "execution_count": 36,
   "id": "4c02d097",
   "metadata": {},
   "outputs": [
    {
     "data": {
      "text/plain": [
       "[5, 12, 21, 32, 43]"
      ]
     },
     "execution_count": 36,
     "metadata": {},
     "output_type": "execute_result"
    }
   ],
   "source": [
    "lists.sort()\n",
    "lists"
   ]
  },
  {
   "cell_type": "code",
   "execution_count": 40,
   "id": "e105b7d6",
   "metadata": {},
   "outputs": [
    {
     "data": {
      "text/plain": [
       "['Ahmed', 'Alaa', 'Omar']"
      ]
     },
     "execution_count": 40,
     "metadata": {},
     "output_type": "execute_result"
    }
   ],
   "source": [
    "lists2 = [\"Alaa\",\"Ahmed\",\"Omar\"]\n",
    "lists2.sort()\n",
    "lists2"
   ]
  },
  {
   "cell_type": "markdown",
   "id": "183f4bd4",
   "metadata": {},
   "source": [
    "##### *clear()  --> remove all value"
   ]
  },
  {
   "cell_type": "code",
   "execution_count": 43,
   "id": "f1cfb53b",
   "metadata": {},
   "outputs": [
    {
     "data": {
      "text/plain": [
       "[]"
      ]
     },
     "execution_count": 43,
     "metadata": {},
     "output_type": "execute_result"
    }
   ],
   "source": [
    "lists2.clear()\n",
    "lists2"
   ]
  },
  {
   "cell_type": "markdown",
   "id": "db85d215",
   "metadata": {},
   "source": [
    "##### *del()  --> remove list"
   ]
  },
  {
   "cell_type": "code",
   "execution_count": 44,
   "id": "d0eb24b0",
   "metadata": {},
   "outputs": [
    {
     "data": {
      "text/plain": [
       "[]"
      ]
     },
     "execution_count": 44,
     "metadata": {},
     "output_type": "execute_result"
    }
   ],
   "source": [
    "lists2"
   ]
  },
  {
   "cell_type": "code",
   "execution_count": 45,
   "id": "ef9d3d14",
   "metadata": {},
   "outputs": [],
   "source": [
    "del(lists2)"
   ]
  },
  {
   "cell_type": "code",
   "execution_count": 46,
   "id": "71e81aa6",
   "metadata": {},
   "outputs": [
    {
     "ename": "NameError",
     "evalue": "name 'lists2' is not defined",
     "output_type": "error",
     "traceback": [
      "\u001b[1;31m---------------------------------------------------------------------------\u001b[0m",
      "\u001b[1;31mNameError\u001b[0m                                 Traceback (most recent call last)",
      "Input \u001b[1;32mIn [46]\u001b[0m, in \u001b[0;36m<cell line: 1>\u001b[1;34m()\u001b[0m\n\u001b[1;32m----> 1\u001b[0m \u001b[43mlists2\u001b[49m\n",
      "\u001b[1;31mNameError\u001b[0m: name 'lists2' is not defined"
     ]
    }
   ],
   "source": [
    "lists2"
   ]
  },
  {
   "cell_type": "markdown",
   "id": "6f6fc133",
   "metadata": {},
   "source": [
    "### *list Comprehension  --> اقدر اعمل ليست في رينج معين في سطرواحد"
   ]
  },
  {
   "cell_type": "code",
   "execution_count": 5,
   "id": "b83a160b",
   "metadata": {},
   "outputs": [
    {
     "data": {
      "text/plain": [
       "[32, 33, 34, 35, 36, 37, 38, 39, 40, 41]"
      ]
     },
     "execution_count": 5,
     "metadata": {},
     "output_type": "execute_result"
    }
   ],
   "source": [
    "list(range(32,42))"
   ]
  },
  {
   "cell_type": "code",
   "execution_count": 11,
   "id": "afb7c97c",
   "metadata": {},
   "outputs": [
    {
     "data": {
      "text/plain": [
       "[87, 88, 89, 90, 91, 92, 93, 94, 95, 96, 97, 98, 99]"
      ]
     },
     "execution_count": 11,
     "metadata": {},
     "output_type": "execute_result"
    }
   ],
   "source": [
    "list1 = list(range(87,100))\n",
    "list1"
   ]
  },
  {
   "cell_type": "markdown",
   "id": "4fd9e54b",
   "metadata": {},
   "source": [
    "### list Comprehension --> for loop"
   ]
  },
  {
   "cell_type": "code",
   "execution_count": 12,
   "id": "7585d7f6",
   "metadata": {},
   "outputs": [
    {
     "data": {
      "text/plain": [
       "[0, 1, 2, 3, 4, 5, 6, 7, 8, 9]"
      ]
     },
     "execution_count": 12,
     "metadata": {},
     "output_type": "execute_result"
    }
   ],
   "source": [
    "list7 = [x for x in range(10)]\n",
    "list7"
   ]
  },
  {
   "cell_type": "code",
   "execution_count": 16,
   "id": "3cef877c",
   "metadata": {},
   "outputs": [
    {
     "data": {
      "text/plain": [
       "[1, 4, 9, 16, 25]"
      ]
     },
     "execution_count": 16,
     "metadata": {},
     "output_type": "execute_result"
    }
   ],
   "source": [
    "list7 = [x**2 for x in range (1,6)] \n",
    "list7"
   ]
  },
  {
   "cell_type": "code",
   "execution_count": 17,
   "id": "654ace0b",
   "metadata": {},
   "outputs": [],
   "source": [
    "list1 = [35,32,12,23]"
   ]
  },
  {
   "cell_type": "code",
   "execution_count": 18,
   "id": "77fe00d2",
   "metadata": {},
   "outputs": [],
   "source": [
    "list1=[x+5 for x in list1]# ع سبيل المثال درجات الطلاب عاوز ازودهم كلهم بدل الفور لوب بستخدم الطريقه ده  "
   ]
  },
  {
   "cell_type": "code",
   "execution_count": 19,
   "id": "5b45ae0d",
   "metadata": {},
   "outputs": [
    {
     "data": {
      "text/plain": [
       "[40, 37, 17, 28]"
      ]
     },
     "execution_count": 19,
     "metadata": {},
     "output_type": "execute_result"
    }
   ],
   "source": [
    "list1"
   ]
  },
  {
   "cell_type": "code",
   "execution_count": 20,
   "id": "76dd5eb8",
   "metadata": {},
   "outputs": [
    {
     "data": {
      "text/plain": [
       "['A', 'l', 'a', 'a']"
      ]
     },
     "execution_count": 20,
     "metadata": {},
     "output_type": "execute_result"
    }
   ],
   "source": [
    "liststr = [x for x in \"Alaa\"]\n",
    "liststr"
   ]
  },
  {
   "cell_type": "markdown",
   "id": "0e95d415",
   "metadata": {},
   "source": [
    "### list Comprehension --> if "
   ]
  },
  {
   "cell_type": "code",
   "execution_count": 22,
   "id": "a0275fa2",
   "metadata": {},
   "outputs": [
    {
     "data": {
      "text/plain": [
       "([34, 32, 34, 6, 4], [11, 67, 9])"
      ]
     },
     "execution_count": 22,
     "metadata": {},
     "output_type": "execute_result"
    }
   ],
   "source": [
    "list1 = [34,32,11,34,67,6,4,9]\n",
    "listeven = [x for x in list1 if x%2 == 0]\n",
    "listodd = [x for x in list1 if x%2 != 0]\n",
    "listeven, listodd"
   ]
  },
  {
   "cell_type": "code",
   "execution_count": 32,
   "id": "1044df64",
   "metadata": {},
   "outputs": [
    {
     "data": {
      "text/plain": [
       "[104.0, 102.2, 93.2, 86.0]"
      ]
     },
     "execution_count": 32,
     "metadata": {},
     "output_type": "execute_result"
    }
   ],
   "source": [
    "temperature_celsius = [40,39,34,30]\n",
    "temperature_fahrenheit = [((9/5)*x+32) for x in temperature_celsius ]\n",
    "temperature_fahrenheit"
   ]
  },
  {
   "cell_type": "code",
   "execution_count": 33,
   "id": "990a628e",
   "metadata": {},
   "outputs": [
    {
     "data": {
      "text/plain": [
       "[104, 102, 93, 86]"
      ]
     },
     "execution_count": 33,
     "metadata": {},
     "output_type": "execute_result"
    }
   ],
   "source": [
    "temperature_celsius = [40,39,34,30]\n",
    "temperature_fahrenheit = [int(((9/5)*x+32)) for x in temperature_celsius ]\n",
    "temperature_fahrenheit"
   ]
  },
  {
   "cell_type": "markdown",
   "id": "5b7a7db6",
   "metadata": {},
   "source": [
    "### *enumerate --> فصل وترقيم"
   ]
  },
  {
   "cell_type": "code",
   "execution_count": 71,
   "id": "dd2320c7",
   "metadata": {},
   "outputs": [
    {
     "data": {
      "text/plain": [
       "[(0, 'Alaa'), (1, 'Ali'), (2, 'Mahmoud')]"
      ]
     },
     "execution_count": 71,
     "metadata": {},
     "output_type": "execute_result"
    }
   ],
   "source": [
    "list1 = [\"Alaa\",\"Ali\",\"Mahmoud\"]\n",
    "list(enumerate(list1,0))"
   ]
  },
  {
   "cell_type": "code",
   "execution_count": 72,
   "id": "4383531c",
   "metadata": {},
   "outputs": [
    {
     "data": {
      "text/plain": [
       "[(0, 'A'), (1, 'l'), (2, 'a'), (3, 'a')]"
      ]
     },
     "execution_count": 72,
     "metadata": {},
     "output_type": "execute_result"
    }
   ],
   "source": [
    "list(enumerate(\"Alaa\",0))"
   ]
  },
  {
   "cell_type": "code",
   "execution_count": 74,
   "id": "fc894bef",
   "metadata": {},
   "outputs": [
    {
     "name": "stdout",
     "output_type": "stream",
     "text": [
      "The Student 0 = Alaa\n",
      "The Student 1 = Ali\n",
      "The Student 2 = Mahmoud\n"
     ]
    }
   ],
   "source": [
    "for x ,y in enumerate(list1,0):\n",
    "    print(f\"The Student {x} = {y}\")\n"
   ]
  },
  {
   "cell_type": "code",
   "execution_count": null,
   "id": "34e3e8ce",
   "metadata": {},
   "outputs": [],
   "source": []
  }
 ],
 "metadata": {
  "kernelspec": {
   "display_name": "Python 3 (ipykernel)",
   "language": "python",
   "name": "python3"
  },
  "language_info": {
   "codemirror_mode": {
    "name": "ipython",
    "version": 3
   },
   "file_extension": ".py",
   "mimetype": "text/x-python",
   "name": "python",
   "nbconvert_exporter": "python",
   "pygments_lexer": "ipython3",
   "version": "3.9.12"
  }
 },
 "nbformat": 4,
 "nbformat_minor": 5
}
