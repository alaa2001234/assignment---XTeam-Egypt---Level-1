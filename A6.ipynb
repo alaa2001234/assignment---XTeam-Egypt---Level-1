{
 "cells": [
  {
   "cell_type": "markdown",
   "id": "6ffdb867",
   "metadata": {},
   "source": [
    "#                                                Assignment 6\n",
    "\n",
    "## 1- create a calculator doing all opreating ( + , - , * , / ) with whole loop"
   ]
  },
  {
   "cell_type": "code",
   "execution_count": 15,
   "id": "ddd7d813",
   "metadata": {},
   "outputs": [
    {
     "name": "stdout",
     "output_type": "stream",
     "text": [
      "Enter Number 1 : 2\n",
      "Enter Number 2 : 3\n",
      "Enter oprator  - * / + : +\n",
      "2.0 + 3.0 = 5.0\n",
      "Enter yes to continue  no to exit : yes\n",
      "Enter Number 1 : 8\n",
      "Enter Number 2 : 8\n",
      "Enter oprator  - * / + : *\n",
      "8.0 x 8.0 = 64.0\n",
      "Enter yes to continue  no to exit : no\n",
      "Thank you\n"
     ]
    }
   ],
   "source": [
    "cheak = 'yes'\n",
    "while cheak == 'yes' :\n",
    "    num1 =float(input(\"Enter Number 1 : \"))\n",
    "    num2 =float(input(\"Enter Number 2 : \"))\n",
    "    op   =str(input(\"Enter oprator  - * / + : \") )\n",
    "    if(op == '+'):\n",
    "        print(f\"{num1} + {num2} = {num1 + num2}\")\n",
    "        \n",
    "    elif(op == '-'):\n",
    "        print(f\"{num1} - {num2} = {num1 - num2}\")\n",
    "        \n",
    "    elif(op == '*'):\n",
    "        print(f\"{num1} x {num2} = {num1 * num2}\")\n",
    "        \n",
    "    elif (op == '/') :\n",
    "        print(f\"{num1} / {num2} = {num1 / num2}\")\n",
    "\n",
    "    else : \n",
    "        print(\"Incorrect Operation\")\n",
    "    cheak = str(input(\"Enter yes to continue  no to exit : \"))\n",
    "        \n",
    "else : \n",
    "    print(\"Thank you\")\n",
    "    "
   ]
  },
  {
   "cell_type": "markdown",
   "id": "fd14d86e",
   "metadata": {},
   "source": [
    "### * 2- create a list wit list Comprehensions that return only odd numbers from ( 0 to 20 )"
   ]
  },
  {
   "cell_type": "code",
   "execution_count": 2,
   "id": "aab75f10",
   "metadata": {},
   "outputs": [
    {
     "data": {
      "text/plain": [
       "[1, 3, 5, 7, 9, 11, 13, 15, 17, 19]"
      ]
     },
     "execution_count": 2,
     "metadata": {},
     "output_type": "execute_result"
    }
   ],
   "source": [
    "listodd = list(x for x in range(0,21) if x%2!=0)\n",
    "listodd"
   ]
  },
  {
   "cell_type": "markdown",
   "id": "15fbb4cd",
   "metadata": {},
   "source": [
    "### *3 - create a list wit Dict Comprehensions that return ( name , address , salary )"
   ]
  },
  {
   "cell_type": "code",
   "execution_count": 12,
   "id": "1c6d9f29",
   "metadata": {},
   "outputs": [
    {
     "name": "stdout",
     "output_type": "stream",
     "text": [
      "Enter name : Alaa\n",
      "Enter address : Elmina\n",
      "Enter salary : 7500\n"
     ]
    },
    {
     "data": {
      "text/plain": [
       "{'name': 'Alaa', 'addres': 'Elmina', 'salary': 7500}"
      ]
     },
     "execution_count": 12,
     "metadata": {},
     "output_type": "execute_result"
    }
   ],
   "source": [
    "DICT = {}\n",
    "def creat_dict ( name = \" \" , address = \"\" , salary = 0):\n",
    "    new_name = str(input(\"Enter name : \"))\n",
    "    new_address = str(input(\"Enter address : \"))\n",
    "    new_salary = int(input(\"Enter salary : \"))\n",
    "    \n",
    "    \n",
    "    DICT [name]    = new_name\n",
    "    DICT [address] = new_address\n",
    "    DICT [salary]  = new_salary\n",
    "    \n",
    "    \n",
    "creat_dict (\"name\",\"addres\" , \"salary\")  \n",
    "DICT"
   ]
  }
 ],
 "metadata": {
  "kernelspec": {
   "display_name": "Python 3 (ipykernel)",
   "language": "python",
   "name": "python3"
  },
  "language_info": {
   "codemirror_mode": {
    "name": "ipython",
    "version": 3
   },
   "file_extension": ".py",
   "mimetype": "text/x-python",
   "name": "python",
   "nbconvert_exporter": "python",
   "pygments_lexer": "ipython3",
   "version": "3.9.12"
  }
 },
 "nbformat": 4,
 "nbformat_minor": 5
}
