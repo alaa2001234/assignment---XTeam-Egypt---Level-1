{
 "cells": [
  {
   "cell_type": "markdown",
   "id": "6994046d",
   "metadata": {},
   "source": [
    "#                                                Assignment 9\n",
    "\n",
    "### 1-  1st one  contain on functions that calculate aria of square"
   ]
  },
  {
   "cell_type": "code",
   "execution_count": 144,
   "id": "a6b6a7b0",
   "metadata": {},
   "outputs": [],
   "source": [
    "from functools import reduce"
   ]
  },
  {
   "cell_type": "code",
   "execution_count": 145,
   "id": "df37fda6",
   "metadata": {},
   "outputs": [],
   "source": [
    "class Square : \n",
    "    def __init__(self,l = 0):\n",
    "        self.l = l\n",
    "    \n",
    "    def get_area(self):\n",
    "        print(self.l **2)"
   ]
  },
  {
   "cell_type": "code",
   "execution_count": 146,
   "id": "a44edbbc",
   "metadata": {},
   "outputs": [
    {
     "name": "stdout",
     "output_type": "stream",
     "text": [
      "49\n"
     ]
    }
   ],
   "source": [
    "s1 = Square(7)\n",
    "s1.get_area()"
   ]
  },
  {
   "cell_type": "markdown",
   "id": "29279ab2",
   "metadata": {},
   "source": [
    "### 1-  2nd class contain on function that reduce sum of list"
   ]
  },
  {
   "cell_type": "code",
   "execution_count": 142,
   "id": "df5c794b",
   "metadata": {},
   "outputs": [],
   "source": [
    "class List :\n",
    "     def sum_list(self,x,y):\n",
    "        return x+y"
   ]
  },
  {
   "cell_type": "code",
   "execution_count": 143,
   "id": "7e33731e",
   "metadata": {},
   "outputs": [
    {
     "data": {
      "text/plain": [
       "27"
      ]
     },
     "execution_count": 143,
     "metadata": {},
     "output_type": "execute_result"
    }
   ],
   "source": [
    "s2 = List ()\n",
    "l = [2,13,1,5,6]\n",
    "reduce(s2.sum_list,l)"
   ]
  },
  {
   "cell_type": "markdown",
   "id": "f02d105c",
   "metadata": {},
   "source": [
    "# Count in class"
   ]
  },
  {
   "cell_type": "code",
   "execution_count": 155,
   "id": "3c528dce",
   "metadata": {},
   "outputs": [],
   "source": [
    "class Student () : \n",
    "    count = 0 \n",
    "    \n",
    "    def __init__(self , name = \"None\" , age = 0 , gender = \"None\"):\n",
    "        self.name   = name \n",
    "        self.age    = age \n",
    "        self.gender = gender\n",
    "        Student.count +=1\n",
    "    def get_number_of_student (self):\n",
    "        print(Student.count)"
   ]
  },
  {
   "cell_type": "code",
   "execution_count": 156,
   "id": "b1016c71",
   "metadata": {},
   "outputs": [],
   "source": [
    "st1 = Student()"
   ]
  },
  {
   "cell_type": "code",
   "execution_count": 157,
   "id": "7a1da5b1",
   "metadata": {},
   "outputs": [
    {
     "name": "stdout",
     "output_type": "stream",
     "text": [
      "1\n"
     ]
    }
   ],
   "source": [
    "st1.get_number_of_student()"
   ]
  },
  {
   "cell_type": "code",
   "execution_count": 158,
   "id": "9d82cb71",
   "metadata": {},
   "outputs": [],
   "source": [
    "st2 = Student()"
   ]
  },
  {
   "cell_type": "code",
   "execution_count": 159,
   "id": "f998aea1",
   "metadata": {},
   "outputs": [
    {
     "name": "stdout",
     "output_type": "stream",
     "text": [
      "2\n"
     ]
    }
   ],
   "source": [
    "print(Student.count)"
   ]
  },
  {
   "cell_type": "code",
   "execution_count": 160,
   "id": "522fb0f4",
   "metadata": {},
   "outputs": [],
   "source": [
    "st3 = Student()"
   ]
  },
  {
   "cell_type": "code",
   "execution_count": 164,
   "id": "52c20d92",
   "metadata": {},
   "outputs": [
    {
     "name": "stdout",
     "output_type": "stream",
     "text": [
      "3\n"
     ]
    }
   ],
   "source": [
    "print(Student.count)"
   ]
  },
  {
   "cell_type": "code",
   "execution_count": null,
   "id": "f4bed10c",
   "metadata": {},
   "outputs": [],
   "source": []
  },
  {
   "cell_type": "code",
   "execution_count": null,
   "id": "4d208957",
   "metadata": {},
   "outputs": [],
   "source": []
  },
  {
   "cell_type": "code",
   "execution_count": null,
   "id": "845ab401",
   "metadata": {},
   "outputs": [],
   "source": []
  },
  {
   "cell_type": "code",
   "execution_count": null,
   "id": "3ad15683",
   "metadata": {},
   "outputs": [],
   "source": []
  },
  {
   "cell_type": "code",
   "execution_count": null,
   "id": "65047624",
   "metadata": {},
   "outputs": [],
   "source": [
    "class List :\n",
    "     def sum_list(self,x,y):\n",
    "        return x+y"
   ]
  }
 ],
 "metadata": {
  "kernelspec": {
   "display_name": "Python 3 (ipykernel)",
   "language": "python",
   "name": "python3"
  },
  "language_info": {
   "codemirror_mode": {
    "name": "ipython",
    "version": 3
   },
   "file_extension": ".py",
   "mimetype": "text/x-python",
   "name": "python",
   "nbconvert_exporter": "python",
   "pygments_lexer": "ipython3",
   "version": "3.9.12"
  }
 },
 "nbformat": 4,
 "nbformat_minor": 5
}
