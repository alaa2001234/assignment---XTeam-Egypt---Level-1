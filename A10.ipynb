{
 "cells": [
  {
   "cell_type": "markdown",
   "id": "68c2c29b",
   "metadata": {},
   "source": [
    "#                                                Assignment 10\n",
    "\n",
    "# create 2 classes with inheritance to each other\n"
   ]
  },
  {
   "cell_type": "code",
   "execution_count": 1,
   "id": "60446d85",
   "metadata": {},
   "outputs": [],
   "source": [
    "class Teacher : \n",
    "    def __init__(self,student = [] , courses = []):\n",
    "        self.student = student\n",
    "        self.courses=courses\n",
    "       \n",
    "        \n",
    "   \n",
    "    def get_info (self):\n",
    "        return f\"Courses in university : \\n  {self.courses} \\n Student in university : \\n  {self.student} \"\n",
    "  "
   ]
  },
  {
   "cell_type": "code",
   "execution_count": 2,
   "id": "0336ff7f",
   "metadata": {},
   "outputs": [
    {
     "data": {
      "text/plain": [
       "'Courses in university : \\n  [] \\n Student in university : \\n  [] '"
      ]
     },
     "execution_count": 2,
     "metadata": {},
     "output_type": "execute_result"
    }
   ],
   "source": [
    "t1 = Teacher()\n",
    "t1.get_info()"
   ]
  },
  {
   "cell_type": "code",
   "execution_count": 3,
   "id": "00eed032",
   "metadata": {},
   "outputs": [],
   "source": [
    "class Student (Teacher):\n",
    "    def __init__(self,name):\n",
    "        super().__init__()\n",
    "        self.student.append(name)"
   ]
  },
  {
   "cell_type": "code",
   "execution_count": 4,
   "id": "ee0ffb18",
   "metadata": {},
   "outputs": [],
   "source": [
    "s1 = Student(\"Alaa\")"
   ]
  },
  {
   "cell_type": "code",
   "execution_count": 5,
   "id": "f6716e21",
   "metadata": {},
   "outputs": [
    {
     "data": {
      "text/plain": [
       "\"Courses in university : \\n  [] \\n Student in university : \\n  ['Alaa'] \""
      ]
     },
     "execution_count": 5,
     "metadata": {},
     "output_type": "execute_result"
    }
   ],
   "source": [
    "s1.get_info()"
   ]
  },
  {
   "cell_type": "code",
   "execution_count": 6,
   "id": "bf3e07ec",
   "metadata": {},
   "outputs": [],
   "source": [
    "s2 = Student(\"Omar\")"
   ]
  },
  {
   "cell_type": "code",
   "execution_count": 7,
   "id": "3b79a3de",
   "metadata": {},
   "outputs": [
    {
     "data": {
      "text/plain": [
       "\"Courses in university : \\n  [] \\n Student in university : \\n  ['Alaa', 'Omar'] \""
      ]
     },
     "execution_count": 7,
     "metadata": {},
     "output_type": "execute_result"
    }
   ],
   "source": [
    "s2.get_info()"
   ]
  },
  {
   "cell_type": "code",
   "execution_count": 8,
   "id": "b0602fb5",
   "metadata": {},
   "outputs": [],
   "source": [
    "class Courses  (Teacher):\n",
    "    def __init__(self,name):\n",
    "        super().__init__()\n",
    "        self.courses .append(name)"
   ]
  },
  {
   "cell_type": "code",
   "execution_count": 9,
   "id": "54600c96",
   "metadata": {},
   "outputs": [],
   "source": [
    "c1=Courses(\"Python\")"
   ]
  },
  {
   "cell_type": "code",
   "execution_count": 10,
   "id": "e6e8990c",
   "metadata": {},
   "outputs": [
    {
     "data": {
      "text/plain": [
       "\"Courses in university : \\n  ['Python'] \\n Student in university : \\n  ['Alaa', 'Omar'] \""
      ]
     },
     "execution_count": 10,
     "metadata": {},
     "output_type": "execute_result"
    }
   ],
   "source": [
    "c1.get_info()"
   ]
  },
  {
   "cell_type": "code",
   "execution_count": 11,
   "id": "782aec0d",
   "metadata": {},
   "outputs": [],
   "source": [
    "c2=Courses(\"Database , c++\")"
   ]
  },
  {
   "cell_type": "code",
   "execution_count": 12,
   "id": "662f971f",
   "metadata": {},
   "outputs": [
    {
     "data": {
      "text/plain": [
       "\"Courses in university : \\n  ['Python', 'Database , c++'] \\n Student in university : \\n  ['Alaa', 'Omar'] \""
      ]
     },
     "execution_count": 12,
     "metadata": {},
     "output_type": "execute_result"
    }
   ],
   "source": [
    "c2.get_info()"
   ]
  },
  {
   "cell_type": "code",
   "execution_count": null,
   "id": "d408b232",
   "metadata": {},
   "outputs": [],
   "source": []
  }
 ],
 "metadata": {
  "kernelspec": {
   "display_name": "Python 3 (ipykernel)",
   "language": "python",
   "name": "python3"
  },
  "language_info": {
   "codemirror_mode": {
    "name": "ipython",
    "version": 3
   },
   "file_extension": ".py",
   "mimetype": "text/x-python",
   "name": "python",
   "nbconvert_exporter": "python",
   "pygments_lexer": "ipython3",
   "version": "3.9.12"
  }
 },
 "nbformat": 4,
 "nbformat_minor": 5
}
