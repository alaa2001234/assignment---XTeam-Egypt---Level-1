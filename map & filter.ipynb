{
 "cells": [
  {
   "cell_type": "code",
   "execution_count": 4,
   "id": "3fb69fa5",
   "metadata": {},
   "outputs": [],
   "source": [
    "import time"
   ]
  },
  {
   "cell_type": "code",
   "execution_count": 5,
   "id": "2bf65873",
   "metadata": {},
   "outputs": [
    {
     "data": {
      "text/plain": [
       "[32, 33, 34, 35, 36, 37, 38, 39, 40, 41]"
      ]
     },
     "execution_count": 5,
     "metadata": {},
     "output_type": "execute_result"
    }
   ],
   "source": [
    "list(range(32,42))"
   ]
  },
  {
   "cell_type": "code",
   "execution_count": 6,
   "id": "e0085563",
   "metadata": {},
   "outputs": [
    {
     "data": {
      "text/plain": [
       "[0, 1, 8, 27, 64, 125, 216, 343, 512, 729]"
      ]
     },
     "execution_count": 6,
     "metadata": {},
     "output_type": "execute_result"
    }
   ],
   "source": [
    "list1=[x**3 for x in range(10)]\n",
    "list1"
   ]
  },
  {
   "cell_type": "code",
   "execution_count": 7,
   "id": "804c69d4",
   "metadata": {},
   "outputs": [],
   "source": [
    "list1 = [35,32,12,23]"
   ]
  },
  {
   "cell_type": "code",
   "execution_count": 8,
   "id": "c9eff959",
   "metadata": {},
   "outputs": [],
   "source": [
    "list1=[x+5 for x in list1]# ع سبيل المثال درجات الطلاب عاوز ازودهم كلهم بدل الفور لوب بستخدم الطريقه ده  "
   ]
  },
  {
   "cell_type": "code",
   "execution_count": 9,
   "id": "fa7b29cf",
   "metadata": {},
   "outputs": [
    {
     "data": {
      "text/plain": [
       "[40, 37, 17, 28]"
      ]
     },
     "execution_count": 9,
     "metadata": {},
     "output_type": "execute_result"
    }
   ],
   "source": [
    "list1"
   ]
  },
  {
   "cell_type": "code",
   "execution_count": 10,
   "id": "e2954473",
   "metadata": {},
   "outputs": [
    {
     "data": {
      "text/plain": [
       "['A', 'l', 'a', 'a']"
      ]
     },
     "execution_count": 10,
     "metadata": {},
     "output_type": "execute_result"
    }
   ],
   "source": [
    "liststr = [x for x in \"Alaa\"]\n",
    "liststr"
   ]
  },
  {
   "cell_type": "code",
   "execution_count": 11,
   "id": "da59c645",
   "metadata": {},
   "outputs": [
    {
     "data": {
      "text/plain": [
       "[34, 32, 34, 6, 4]"
      ]
     },
     "execution_count": 11,
     "metadata": {},
     "output_type": "execute_result"
    }
   ],
   "source": [
    "list1 = [34,32,11,34,67,6,4,9]\n",
    "list2 = [x for x in list1 if x%2 == 0]\n",
    "list3 = [x for x in list1 if x%2 != 0]\n",
    "list2"
   ]
  },
  {
   "cell_type": "code",
   "execution_count": 12,
   "id": "dce21a90",
   "metadata": {},
   "outputs": [
    {
     "data": {
      "text/plain": [
       "[11, 67, 9]"
      ]
     },
     "execution_count": 12,
     "metadata": {},
     "output_type": "execute_result"
    }
   ],
   "source": [
    "list3"
   ]
  },
  {
   "cell_type": "code",
   "execution_count": 13,
   "id": "29278432",
   "metadata": {},
   "outputs": [
    {
     "data": {
      "text/plain": [
       "['Alaa ']"
      ]
     },
     "execution_count": 13,
     "metadata": {},
     "output_type": "execute_result"
    }
   ],
   "source": [
    "str.split('Alaa ',' Khaled')"
   ]
  },
  {
   "cell_type": "code",
   "execution_count": 14,
   "id": "f32b9d7a",
   "metadata": {},
   "outputs": [
    {
     "name": "stdout",
     "output_type": "stream",
     "text": [
      "fjg\n"
     ]
    }
   ],
   "source": [
    "x=1\n",
    "if x>6 : \n",
    "    print(\"ddd\")\n",
    "elif (x<6) : \n",
    "    print(\"fjg\")"
   ]
  },
  {
   "cell_type": "code",
   "execution_count": 26,
   "id": "3e49981b",
   "metadata": {},
   "outputs": [
    {
     "name": "stdout",
     "output_type": "stream",
     "text": [
      "Enter length : 5\n",
      "[0.0, 3.14, 12.56, 28.26, 50.24]\n",
      "1.351118564605713\n"
     ]
    }
   ],
   "source": [
    "start = time.time()\n",
    "def area_cir (r) : \n",
    "    return 3.14 * r **2\n",
    "\n",
    "l = int(input(\"Enter length : \"))\n",
    "num = []\n",
    "for x in range (l) : \n",
    "   #user = int(input(f\"Enter number [{x+1}] :  \"))\n",
    "    num.append(x)\n",
    "    #print(area_cir(num[x]))\n",
    "    \n",
    "m = list(map(area_cir,num))    \n",
    "print(m)\n",
    "\n",
    "finsh = time.time()\n",
    "print (finsh - start)"
   ]
  },
  {
   "cell_type": "code",
   "execution_count": 46,
   "id": "dc897053",
   "metadata": {},
   "outputs": [
    {
     "data": {
      "text/plain": [
       "True"
      ]
     },
     "execution_count": 46,
     "metadata": {},
     "output_type": "execute_result"
    }
   ],
   "source": [
    "c = [\"ALAA\",\"Omar\",\"Ahmed\"]\n",
    "m = list(map(list,c))\n",
    "m\n",
    "c[0].isupper()"
   ]
  },
  {
   "cell_type": "code",
   "execution_count": 36,
   "id": "4664107f",
   "metadata": {},
   "outputs": [
    {
     "name": "stdout",
     "output_type": "stream",
     "text": [
      "[1, 4, 25]\n",
      "[1, 4, 25]\n"
     ]
    }
   ],
   "source": [
    "t = [1,2,5] \n",
    "user = 0\n",
    "m = []\n",
    "def sq (t) : return t**2\n",
    "for x in t :\n",
    "    user = sq(x)\n",
    "    m.append(user)\n",
    " # or   \n",
    "another_sol = list(map(sq,t))     \n",
    "    \n",
    "print(m)\n",
    "print(another_sol)"
   ]
  },
  {
   "cell_type": "code",
   "execution_count": 41,
   "id": "d27f9c92",
   "metadata": {},
   "outputs": [
    {
     "data": {
      "text/plain": [
       "[26, 28, 26, 24]"
      ]
     },
     "execution_count": 41,
     "metadata": {},
     "output_type": "execute_result"
    }
   ],
   "source": [
    "degree = [23,20,18,13]\n",
    "pons = [2,6,7,8]\n",
    "pons2 = [1,2,1,3]\n",
    "\n",
    "def sumd (x,y,z) : return x+y+z\n",
    "\n",
    "m = list(map(sumd , degree,pons,pons2))\n",
    "m"
   ]
  },
  {
   "cell_type": "markdown",
   "id": "62d47ecd",
   "metadata": {},
   "source": [
    "# الفلتر بيشوف الشرط صح ولا غلط لو صح بيرجعه لو غلط مش بيرجعه\n",
    "# الماب بتشوف الشرط صح ولا غلط ولو غلط بترجع none"
   ]
  },
  {
   "cell_type": "code",
   "execution_count": 59,
   "id": "f7297b29",
   "metadata": {},
   "outputs": [
    {
     "data": {
      "text/plain": [
       "[2, 4, None, 8]"
      ]
     },
     "execution_count": 59,
     "metadata": {},
     "output_type": "execute_result"
    }
   ],
   "source": [
    "num = [2,4,45,8]\n",
    "def sq (x) :  \n",
    "    if x%2==0 :\n",
    "        return x\n",
    "\n",
    "m = list(map(sq,num))\n",
    "m"
   ]
  },
  {
   "cell_type": "code",
   "execution_count": null,
   "id": "1c68b530",
   "metadata": {},
   "outputs": [],
   "source": []
  }
 ],
 "metadata": {
  "kernelspec": {
   "display_name": "Python 3 (ipykernel)",
   "language": "python",
   "name": "python3"
  },
  "language_info": {
   "codemirror_mode": {
    "name": "ipython",
    "version": 3
   },
   "file_extension": ".py",
   "mimetype": "text/x-python",
   "name": "python",
   "nbconvert_exporter": "python",
   "pygments_lexer": "ipython3",
   "version": "3.9.12"
  }
 },
 "nbformat": 4,
 "nbformat_minor": 5
}
