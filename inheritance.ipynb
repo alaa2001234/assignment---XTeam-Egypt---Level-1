{
 "cells": [
  {
   "cell_type": "code",
   "execution_count": 12,
   "id": "9af3689d",
   "metadata": {},
   "outputs": [],
   "source": [
    "class University : \n",
    "    def __init__(self,instructor = [] , courses = []):\n",
    "        self.instructor = instructor\n",
    "        self.courses=courses\n",
    "        \n",
    "    def set_instructor (self,name):\n",
    "        self.instructor.append(name)\n",
    "    def set_courses (self,name):\n",
    "        self.courses.append(name)\n",
    "        \n",
    "    def get_instructor (self):\n",
    "        return f'Instructor in university : \\n {self.instructor}'\n",
    "    def get_courses (self):\n",
    "        return f\"Courses in university : \\n  {self.courses} \"\n",
    "  "
   ]
  },
  {
   "cell_type": "code",
   "execution_count": 28,
   "id": "5e451bbc",
   "metadata": {},
   "outputs": [],
   "source": [
    "teacher1 = University()\n",
    "teacher1.set_instructor(\"Alaa Khaled Shehata\")"
   ]
  },
  {
   "cell_type": "code",
   "execution_count": 29,
   "id": "2f41255f",
   "metadata": {},
   "outputs": [],
   "source": [
    "teacher1.set_courses(\"Data Mining\")"
   ]
  },
  {
   "cell_type": "code",
   "execution_count": 40,
   "id": "466a0a6a",
   "metadata": {},
   "outputs": [],
   "source": [
    "class Student(University):\n",
    "    def __init__(self,name =\"\" , id =0 , gender =\"\"):\n",
    "        \n",
    "        self.name = name\n",
    "        self.id = id\n",
    "        self.gender = gender\n",
    "        \n",
    "    def get_info (self):\n",
    "        return f\"Name : {self.name} \\n ID : {self.id} \\n Gender : {self.gender}\" "
   ]
  },
  {
   "cell_type": "code",
   "execution_count": 41,
   "id": "9f809027",
   "metadata": {},
   "outputs": [],
   "source": [
    "student1 = Student(\"Alaa Khaled\" , 181050011 , \"Male\")"
   ]
  },
  {
   "cell_type": "code",
   "execution_count": 42,
   "id": "f676f5b4",
   "metadata": {},
   "outputs": [
    {
     "data": {
      "text/plain": [
       "'Name : Alaa Khaled \\n ID : 181050011 \\n Gender : Male'"
      ]
     },
     "execution_count": 42,
     "metadata": {},
     "output_type": "execute_result"
    }
   ],
   "source": [
    "student1.get_info()"
   ]
  },
  {
   "cell_type": "code",
   "execution_count": null,
   "id": "17742225",
   "metadata": {},
   "outputs": [],
   "source": []
  },
  {
   "cell_type": "code",
   "execution_count": null,
   "id": "5bfc547c",
   "metadata": {},
   "outputs": [],
   "source": []
  },
  {
   "cell_type": "code",
   "execution_count": null,
   "id": "005ce319",
   "metadata": {},
   "outputs": [],
   "source": []
  },
  {
   "cell_type": "code",
   "execution_count": null,
   "id": "445c4ba1",
   "metadata": {},
   "outputs": [],
   "source": []
  },
  {
   "cell_type": "code",
   "execution_count": null,
   "id": "ec47bb8c",
   "metadata": {},
   "outputs": [],
   "source": []
  },
  {
   "cell_type": "code",
   "execution_count": 43,
   "id": "d3551311",
   "metadata": {},
   "outputs": [],
   "source": [
    "class Teacher : \n",
    "    def __init__(self,student = [\"\"] , courses = [\"\"]):\n",
    "        self.student = student\n",
    "        self.courses=courses\n",
    "        self.student.append(name)\n",
    "        \n",
    "   \n",
    "    def get_info (self):\n",
    "        return f\"Courses in university : \\n  {self.courses} \\n Student in university : \\n  {self.student} \"\n",
    "  "
   ]
  },
  {
   "cell_type": "code",
   "execution_count": 44,
   "id": "1c1648f8",
   "metadata": {},
   "outputs": [
    {
     "data": {
      "text/plain": [
       "'Courses in university : \\n  [] \\n Student in university : \\n  [] '"
      ]
     },
     "execution_count": 44,
     "metadata": {},
     "output_type": "execute_result"
    }
   ],
   "source": [
    "t1 = Teacher()\n",
    "t1.get_info()"
   ]
  },
  {
   "cell_type": "code",
   "execution_count": 45,
   "id": "151e969f",
   "metadata": {},
   "outputs": [],
   "source": [
    "class Student (Teacher):\n",
    "    def __init__(self,name):\n",
    "        super().__init__()\n",
    "        self.student.append(name)"
   ]
  },
  {
   "cell_type": "code",
   "execution_count": 48,
   "id": "1b04b999",
   "metadata": {},
   "outputs": [],
   "source": [
    "s1 = Student(\"Alaa\")"
   ]
  },
  {
   "cell_type": "code",
   "execution_count": 49,
   "id": "45c5033e",
   "metadata": {},
   "outputs": [
    {
     "data": {
      "text/plain": [
       "\"Courses in university : \\n  [] \\n Student in university : \\n  ['Alaa'] \""
      ]
     },
     "execution_count": 49,
     "metadata": {},
     "output_type": "execute_result"
    }
   ],
   "source": [
    "s1.get_info()"
   ]
  },
  {
   "cell_type": "code",
   "execution_count": 50,
   "id": "920efac5",
   "metadata": {},
   "outputs": [],
   "source": [
    "s2 = Student(\"Omar\")"
   ]
  },
  {
   "cell_type": "code",
   "execution_count": 51,
   "id": "a73320b2",
   "metadata": {},
   "outputs": [
    {
     "data": {
      "text/plain": [
       "\"Courses in university : \\n  [] \\n Student in university : \\n  ['Alaa', 'Omar'] \""
      ]
     },
     "execution_count": 51,
     "metadata": {},
     "output_type": "execute_result"
    }
   ],
   "source": [
    "s2.get_info()"
   ]
  },
  {
   "cell_type": "code",
   "execution_count": 55,
   "id": "185f0768",
   "metadata": {},
   "outputs": [],
   "source": [
    "class Courses  (Teacher):\n",
    "    def __init__(self,name=[]):\n",
    "        super().__init__()\n",
    "        self.courses .append(name)"
   ]
  },
  {
   "cell_type": "code",
   "execution_count": 56,
   "id": "63fe438e",
   "metadata": {},
   "outputs": [
    {
     "ename": "TypeError",
     "evalue": "__init__() takes from 1 to 2 positional arguments but 3 were given",
     "output_type": "error",
     "traceback": [
      "\u001b[1;31m---------------------------------------------------------------------------\u001b[0m",
      "\u001b[1;31mTypeError\u001b[0m                                 Traceback (most recent call last)",
      "Input \u001b[1;32mIn [56]\u001b[0m, in \u001b[0;36m<cell line: 1>\u001b[1;34m()\u001b[0m\n\u001b[1;32m----> 1\u001b[0m c1\u001b[38;5;241m=\u001b[39m\u001b[43mCourses\u001b[49m\u001b[43m(\u001b[49m\u001b[38;5;124;43m\"\u001b[39;49m\u001b[38;5;124;43ma\u001b[39;49m\u001b[38;5;124;43m\"\u001b[39;49m\u001b[43m,\u001b[49m\u001b[38;5;124;43m\"\u001b[39;49m\u001b[38;5;124;43mb\u001b[39;49m\u001b[38;5;124;43m\"\u001b[39;49m\u001b[43m)\u001b[49m\n",
      "\u001b[1;31mTypeError\u001b[0m: __init__() takes from 1 to 2 positional arguments but 3 were given"
     ]
    }
   ],
   "source": [
    "c1=Courses(\"a\",\"b\")"
   ]
  },
  {
   "cell_type": "code",
   "execution_count": 54,
   "id": "b3dd9856",
   "metadata": {},
   "outputs": [
    {
     "data": {
      "text/plain": [
       "\"Courses in university : \\n  ['Python'] \\n Student in university : \\n  ['Alaa', 'Omar'] \""
      ]
     },
     "execution_count": 54,
     "metadata": {},
     "output_type": "execute_result"
    }
   ],
   "source": [
    "c1.get_info()"
   ]
  },
  {
   "cell_type": "code",
   "execution_count": null,
   "id": "a7b23076",
   "metadata": {},
   "outputs": [],
   "source": []
  }
 ],
 "metadata": {
  "kernelspec": {
   "display_name": "Python 3 (ipykernel)",
   "language": "python",
   "name": "python3"
  },
  "language_info": {
   "codemirror_mode": {
    "name": "ipython",
    "version": 3
   },
   "file_extension": ".py",
   "mimetype": "text/x-python",
   "name": "python",
   "nbconvert_exporter": "python",
   "pygments_lexer": "ipython3",
   "version": "3.9.12"
  }
 },
 "nbformat": 4,
 "nbformat_minor": 5
}
