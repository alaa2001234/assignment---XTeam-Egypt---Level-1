{
 "cells": [
  {
   "cell_type": "markdown",
   "id": "7eeb13a9",
   "metadata": {},
   "source": [
    "#                                                Assignment 4\n",
    "\n",
    "# Set\n",
    "\n",
    "##### *add"
   ]
  },
  {
   "cell_type": "code",
   "execution_count": 7,
   "id": "039443c4",
   "metadata": {},
   "outputs": [
    {
     "name": "stdout",
     "output_type": "stream",
     "text": [
      "This set before Add :  {32, 1, 12, 45}\n",
      "This set After Add  :  {32, 1, 12, 45, 784}\n"
     ]
    }
   ],
   "source": [
    "set1= {1,32,12,45}\n",
    "print(\"This set before Add : \", set1)\n",
    "set1.add(784)\n",
    "print(\"This set After Add  : \", set1)"
   ]
  },
  {
   "cell_type": "markdown",
   "id": "1b58d261",
   "metadata": {},
   "source": [
    "##### *copy"
   ]
  },
  {
   "cell_type": "code",
   "execution_count": 10,
   "id": "f9c19417",
   "metadata": {},
   "outputs": [
    {
     "data": {
      "text/plain": [
       "{1, 12, 32, 45, 784}"
      ]
     },
     "execution_count": 10,
     "metadata": {},
     "output_type": "execute_result"
    }
   ],
   "source": [
    "set2=set1.copy()\n",
    "set2"
   ]
  },
  {
   "cell_type": "markdown",
   "id": "2e71a73d",
   "metadata": {},
   "source": [
    "##### *difference"
   ]
  },
  {
   "cell_type": "code",
   "execution_count": 13,
   "id": "5707fe94",
   "metadata": {},
   "outputs": [
    {
     "data": {
      "text/plain": [
       "{30}"
      ]
     },
     "execution_count": 13,
     "metadata": {},
     "output_type": "execute_result"
    }
   ],
   "source": [
    "set1.add(30)\n",
    "set2.add(20)\n",
    "set1.difference(set2)"
   ]
  },
  {
   "cell_type": "code",
   "execution_count": 14,
   "id": "c9c9ac59",
   "metadata": {},
   "outputs": [
    {
     "data": {
      "text/plain": [
       "{20}"
      ]
     },
     "execution_count": 14,
     "metadata": {},
     "output_type": "execute_result"
    }
   ],
   "source": [
    "set2.difference(set1)"
   ]
  },
  {
   "cell_type": "markdown",
   "id": "823b2b3f",
   "metadata": {},
   "source": [
    "##### *difference - update"
   ]
  },
  {
   "cell_type": "code",
   "execution_count": 17,
   "id": "640fccf3",
   "metadata": {},
   "outputs": [
    {
     "data": {
      "text/plain": [
       "{20}"
      ]
     },
     "execution_count": 17,
     "metadata": {},
     "output_type": "execute_result"
    }
   ],
   "source": [
    "set2.difference_update(set1)\n",
    "set2"
   ]
  },
  {
   "cell_type": "markdown",
   "id": "620050ad",
   "metadata": {},
   "source": [
    "##### *discard  - remove"
   ]
  },
  {
   "cell_type": "code",
   "execution_count": 77,
   "id": "82687c6a",
   "metadata": {},
   "outputs": [
    {
     "data": {
      "text/plain": [
       "{12, 31, 32, 123}"
      ]
     },
     "execution_count": 77,
     "metadata": {},
     "output_type": "execute_result"
    }
   ],
   "source": [
    "set0 = {12,32,123,31}\n",
    "set0"
   ]
  },
  {
   "cell_type": "code",
   "execution_count": 78,
   "id": "1e63c07c",
   "metadata": {},
   "outputs": [],
   "source": [
    "set0.discard(12)\n",
    "set0.remove(123)"
   ]
  },
  {
   "cell_type": "code",
   "execution_count": 79,
   "id": "2737d81a",
   "metadata": {},
   "outputs": [
    {
     "data": {
      "text/plain": [
       "{31, 32}"
      ]
     },
     "execution_count": 79,
     "metadata": {},
     "output_type": "execute_result"
    }
   ],
   "source": [
    "set0"
   ]
  },
  {
   "cell_type": "markdown",
   "id": "c6e4e669",
   "metadata": {},
   "source": [
    "##### *intersection"
   ]
  },
  {
   "cell_type": "code",
   "execution_count": 26,
   "id": "56e96532",
   "metadata": {},
   "outputs": [],
   "source": [
    "set2.add(45)"
   ]
  },
  {
   "cell_type": "code",
   "execution_count": 27,
   "id": "b21398ac",
   "metadata": {},
   "outputs": [
    {
     "name": "stdout",
     "output_type": "stream",
     "text": [
      "{45}\n"
     ]
    }
   ],
   "source": [
    "print(set1.intersection(set2))"
   ]
  },
  {
   "cell_type": "markdown",
   "id": "bb849130",
   "metadata": {},
   "source": [
    "##### *intersection_update"
   ]
  },
  {
   "cell_type": "code",
   "execution_count": 28,
   "id": "fa4dd738",
   "metadata": {},
   "outputs": [
    {
     "data": {
      "text/plain": [
       "{20, 45}"
      ]
     },
     "execution_count": 28,
     "metadata": {},
     "output_type": "execute_result"
    }
   ],
   "source": [
    "set2"
   ]
  },
  {
   "cell_type": "code",
   "execution_count": 29,
   "id": "dfc3b05d",
   "metadata": {},
   "outputs": [
    {
     "data": {
      "text/plain": [
       "{1, 30, 32, 45, 784}"
      ]
     },
     "execution_count": 29,
     "metadata": {},
     "output_type": "execute_result"
    }
   ],
   "source": [
    "set1"
   ]
  },
  {
   "cell_type": "code",
   "execution_count": 30,
   "id": "5d66b25b",
   "metadata": {},
   "outputs": [
    {
     "data": {
      "text/plain": [
       "{45}"
      ]
     },
     "execution_count": 30,
     "metadata": {},
     "output_type": "execute_result"
    }
   ],
   "source": [
    "set2.intersection_update(set1)\n",
    "set2"
   ]
  },
  {
   "cell_type": "code",
   "execution_count": 31,
   "id": "3219bd35",
   "metadata": {},
   "outputs": [
    {
     "data": {
      "text/plain": [
       "{45}"
      ]
     },
     "execution_count": 31,
     "metadata": {},
     "output_type": "execute_result"
    }
   ],
   "source": [
    "set1.intersection_update(set2)\n",
    "set1"
   ]
  },
  {
   "cell_type": "code",
   "execution_count": 32,
   "id": "2a576d9f",
   "metadata": {},
   "outputs": [
    {
     "data": {
      "text/plain": [
       "({45}, {45})"
      ]
     },
     "execution_count": 32,
     "metadata": {},
     "output_type": "execute_result"
    }
   ],
   "source": [
    "set1,set2"
   ]
  },
  {
   "cell_type": "markdown",
   "id": "8ae5d8df",
   "metadata": {},
   "source": [
    "##### *isdisjoint"
   ]
  },
  {
   "cell_type": "code",
   "execution_count": 38,
   "id": "4f4bb52e",
   "metadata": {},
   "outputs": [
    {
     "data": {
      "text/plain": [
       "False"
      ]
     },
     "execution_count": 38,
     "metadata": {},
     "output_type": "execute_result"
    }
   ],
   "source": [
    "set3 = {40,50,60,30}\n",
    "set4 = {40,44,21,34}\n",
    "set3.isdisjoint(set4) #If there is a similar element between the two sets, the result is False"
   ]
  },
  {
   "cell_type": "code",
   "execution_count": 39,
   "id": "1fe05cc0",
   "metadata": {},
   "outputs": [
    {
     "data": {
      "text/plain": [
       "{21, 34, 44}"
      ]
     },
     "execution_count": 39,
     "metadata": {},
     "output_type": "execute_result"
    }
   ],
   "source": [
    "set4.discard(40)\n",
    "set4"
   ]
  },
  {
   "cell_type": "code",
   "execution_count": 42,
   "id": "32ba37d5",
   "metadata": {},
   "outputs": [
    {
     "data": {
      "text/plain": [
       "True"
      ]
     },
     "execution_count": 42,
     "metadata": {},
     "output_type": "execute_result"
    }
   ],
   "source": [
    "set3.isdisjoint(set4)"
   ]
  },
  {
   "cell_type": "markdown",
   "id": "c6fe7fa4",
   "metadata": {},
   "source": [
    "##### *issubset"
   ]
  },
  {
   "cell_type": "code",
   "execution_count": 61,
   "id": "e55d4d7a",
   "metadata": {},
   "outputs": [],
   "source": [
    "set5 = {44,50}"
   ]
  },
  {
   "cell_type": "code",
   "execution_count": 62,
   "id": "a634bd6d",
   "metadata": {},
   "outputs": [
    {
     "data": {
      "text/plain": [
       "({21, 34, 44, 50}, {44, 50})"
      ]
     },
     "execution_count": 62,
     "metadata": {},
     "output_type": "execute_result"
    }
   ],
   "source": [
    "set4,set5"
   ]
  },
  {
   "cell_type": "code",
   "execution_count": 63,
   "id": "47289dbb",
   "metadata": {},
   "outputs": [
    {
     "data": {
      "text/plain": [
       "True"
      ]
     },
     "execution_count": 63,
     "metadata": {},
     "output_type": "execute_result"
    }
   ],
   "source": [
    "set5.issubset(set4)"
   ]
  },
  {
   "cell_type": "markdown",
   "id": "fab52f28",
   "metadata": {},
   "source": [
    "##### *pop"
   ]
  },
  {
   "cell_type": "code",
   "execution_count": 73,
   "id": "c6ecd34d",
   "metadata": {},
   "outputs": [],
   "source": [
    "sett = {85,45,41}"
   ]
  },
  {
   "cell_type": "code",
   "execution_count": 74,
   "id": "254d1d2d",
   "metadata": {},
   "outputs": [
    {
     "data": {
      "text/plain": [
       "41"
      ]
     },
     "execution_count": 74,
     "metadata": {},
     "output_type": "execute_result"
    }
   ],
   "source": [
    "sett.pop()"
   ]
  },
  {
   "cell_type": "code",
   "execution_count": 75,
   "id": "62273f3b",
   "metadata": {},
   "outputs": [
    {
     "data": {
      "text/plain": [
       "{45, 85}"
      ]
     },
     "execution_count": 75,
     "metadata": {},
     "output_type": "execute_result"
    }
   ],
   "source": [
    "sett"
   ]
  },
  {
   "cell_type": "markdown",
   "id": "758eb0cb",
   "metadata": {},
   "source": [
    "##### *symmetric_difference"
   ]
  },
  {
   "cell_type": "code",
   "execution_count": 89,
   "id": "6832b149",
   "metadata": {},
   "outputs": [
    {
     "data": {
      "text/plain": [
       "({31, 32, 50}, {30, 40, 50, 60})"
      ]
     },
     "execution_count": 89,
     "metadata": {},
     "output_type": "execute_result"
    }
   ],
   "source": [
    "set0 , set3"
   ]
  },
  {
   "cell_type": "code",
   "execution_count": 90,
   "id": "1da048ac",
   "metadata": {},
   "outputs": [
    {
     "name": "stdout",
     "output_type": "stream",
     "text": [
      "{32, 40, 60, 30, 31}\n"
     ]
    }
   ],
   "source": [
    "print(set0.symmetric_difference(set3))"
   ]
  },
  {
   "cell_type": "markdown",
   "id": "d8329eb7",
   "metadata": {},
   "source": [
    "##### *symmetric_difference_update"
   ]
  },
  {
   "cell_type": "code",
   "execution_count": 92,
   "id": "84961a24",
   "metadata": {},
   "outputs": [
    {
     "data": {
      "text/plain": [
       "({31, 32, 50}, {30, 40, 50, 60})"
      ]
     },
     "execution_count": 92,
     "metadata": {},
     "output_type": "execute_result"
    }
   ],
   "source": [
    "set0 , set3"
   ]
  },
  {
   "cell_type": "code",
   "execution_count": 93,
   "id": "71fd794e",
   "metadata": {},
   "outputs": [],
   "source": [
    "set0.symmetric_difference_update(set3)"
   ]
  },
  {
   "cell_type": "code",
   "execution_count": 94,
   "id": "3e1ca8a1",
   "metadata": {},
   "outputs": [
    {
     "data": {
      "text/plain": [
       "({30, 31, 32, 40, 60}, {30, 40, 50, 60})"
      ]
     },
     "execution_count": 94,
     "metadata": {},
     "output_type": "execute_result"
    }
   ],
   "source": [
    "set0 , set3"
   ]
  },
  {
   "cell_type": "markdown",
   "id": "9238af11",
   "metadata": {},
   "source": [
    "##### *union"
   ]
  },
  {
   "cell_type": "code",
   "execution_count": 95,
   "id": "bbddc455",
   "metadata": {},
   "outputs": [
    {
     "data": {
      "text/plain": [
       "{0, 8, 12, 14, 30, 54, 55}"
      ]
     },
     "execution_count": 95,
     "metadata": {},
     "output_type": "execute_result"
    }
   ],
   "source": [
    "x = {12,54,14,0}\n",
    "y = {12,55,30,8}\n",
    "x.union(y)"
   ]
  },
  {
   "cell_type": "markdown",
   "id": "4f993555",
   "metadata": {},
   "source": [
    "##### *update"
   ]
  },
  {
   "cell_type": "code",
   "execution_count": 96,
   "id": "ba4b6e54",
   "metadata": {},
   "outputs": [
    {
     "data": {
      "text/plain": [
       "({0, 12, 14, 54}, {8, 12, 30, 55})"
      ]
     },
     "execution_count": 96,
     "metadata": {},
     "output_type": "execute_result"
    }
   ],
   "source": [
    "x,y"
   ]
  },
  {
   "cell_type": "code",
   "execution_count": 97,
   "id": "63fbdc3e",
   "metadata": {},
   "outputs": [
    {
     "data": {
      "text/plain": [
       "{0, 8, 12, 14, 30, 54, 55}"
      ]
     },
     "execution_count": 97,
     "metadata": {},
     "output_type": "execute_result"
    }
   ],
   "source": [
    "x.update(y)\n",
    "x"
   ]
  },
  {
   "cell_type": "code",
   "execution_count": null,
   "id": "e441458a",
   "metadata": {},
   "outputs": [],
   "source": []
  }
 ],
 "metadata": {
  "kernelspec": {
   "display_name": "Python 3 (ipykernel)",
   "language": "python",
   "name": "python3"
  },
  "language_info": {
   "codemirror_mode": {
    "name": "ipython",
    "version": 3
   },
   "file_extension": ".py",
   "mimetype": "text/x-python",
   "name": "python",
   "nbconvert_exporter": "python",
   "pygments_lexer": "ipython3",
   "version": "3.9.12"
  }
 },
 "nbformat": 4,
 "nbformat_minor": 5
}
