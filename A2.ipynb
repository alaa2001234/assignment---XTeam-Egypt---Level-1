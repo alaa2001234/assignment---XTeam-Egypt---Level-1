{
 "cells": [
  {
   "cell_type": "markdown",
   "id": "b91cf99a",
   "metadata": {},
   "source": [
    "#                                                Assignment 2\n",
    "\n",
    "### 1- List"
   ]
  },
  {
   "cell_type": "code",
   "execution_count": 1,
   "id": "a670dbc6",
   "metadata": {},
   "outputs": [
    {
     "name": "stdout",
     "output_type": "stream",
     "text": [
      "List 1 :  [78, 'Alaa', 65, 90, False]\n",
      "List 2 :  [5, 'Alaa', True, (90, 12), 7.2]\n"
     ]
    }
   ],
   "source": [
    "list1=[78,\"Alaa\",65,90,False]\n",
    "print(\"List 1 : \", list1)\n",
    "\n",
    "list2=[5,\"Alaa\",True,(90,12),7.2]\n",
    "print(\"List 2 : \", list2)"
   ]
  },
  {
   "cell_type": "markdown",
   "id": "8a1e4516",
   "metadata": {},
   "source": [
    "### 2- Sets"
   ]
  },
  {
   "cell_type": "code",
   "execution_count": 10,
   "id": "ae6965ca",
   "metadata": {},
   "outputs": [
    {
     "data": {
      "text/plain": [
       "({(5, 3), 54, 78, 87, False, True}, {(89, 99), 10, 45, 78, 90, False})"
      ]
     },
     "execution_count": 10,
     "metadata": {},
     "output_type": "execute_result"
    }
   ],
   "source": [
    "set1={90,45,10,78,(89,99),False}\n",
    "set2={54,87,True,78,(5,3),False}\n",
    "set2,set1"
   ]
  },
  {
   "cell_type": "markdown",
   "id": "ff6a9529",
   "metadata": {},
   "source": [
    "### 3- dict "
   ]
  },
  {
   "cell_type": "code",
   "execution_count": 11,
   "id": "bc5f7b09",
   "metadata": {},
   "outputs": [
    {
     "name": "stdout",
     "output_type": "stream",
     "text": [
      " {'Name': 'Alaa', 'Age': 21.5, 'Single': True, 'Married': False, 'Salary': 5000} \n",
      " {'Name': 'Omar', 'Age': 27.5, 'Single': False, 'Married': True, 'Salary': 9000}\n"
     ]
    }
   ],
   "source": [
    "dic1={'Name':'Alaa' , 'Age' : 21.5 , 'Single' : True  , 'Married' : False , 'Salary' :5000 }\n",
    "dic2={'Name':'Omar' , 'Age' : 27.5 , 'Single' : False , 'Married' : True  , 'Salary' :9000 }\n",
    "print(\"\",dic1,\"\\n\",dic2)"
   ]
  },
  {
   "cell_type": "markdown",
   "id": "d4a20024",
   "metadata": {},
   "source": [
    "### 3- tuples  "
   ]
  },
  {
   "cell_type": "code",
   "execution_count": 12,
   "id": "2ab6267e",
   "metadata": {},
   "outputs": [
    {
     "name": "stdout",
     "output_type": "stream",
     "text": [
      " ('Alaa Khaled', 25.5, 'Single', 5000) \n",
      " ('Khaled', 54.5, 'Married', 9000)\n"
     ]
    }
   ],
   "source": [
    "tuple1=('Alaa Khaled' , 25.5 , 'Single' , 5000)\n",
    "tuple2=('Khaled' , 54.5 , 'Married' , 9000)\n",
    "print(\"\",tuple1,\"\\n\",tuple2)"
   ]
  },
  {
   "cell_type": "code",
   "execution_count": null,
   "id": "20237757",
   "metadata": {},
   "outputs": [],
   "source": []
  }
 ],
 "metadata": {
  "kernelspec": {
   "display_name": "Python 3.9.12 ('base')",
   "language": "python",
   "name": "python3"
  },
  "language_info": {
   "codemirror_mode": {
    "name": "ipython",
    "version": 3
   },
   "file_extension": ".py",
   "mimetype": "text/x-python",
   "name": "python",
   "nbconvert_exporter": "python",
   "pygments_lexer": "ipython3",
   "version": "3.9.12"
  },
  "vscode": {
   "interpreter": {
    "hash": "ba94c4f6544aac6ceeda034d28f7d43fc6b023a21fc068b04b5600e9f88abee4"
   }
  }
 },
 "nbformat": 4,
 "nbformat_minor": 5
}
